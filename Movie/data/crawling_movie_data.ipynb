{
 "cells": [
  {
   "cell_type": "code",
   "execution_count": 1,
   "metadata": {},
   "outputs": [],
   "source": [
    "# !pip install selenium webdriver-manager beautifulsoup4"
   ]
  },
  {
   "cell_type": "code",
   "execution_count": 2,
   "metadata": {},
   "outputs": [],
   "source": [
    "from selenium import webdriver\n",
    "from bs4 import BeautifulSoup\n",
    "import urllib.request\n",
    "import pandas as pd"
   ]
  },
  {
   "cell_type": "code",
   "execution_count": 3,
   "metadata": {},
   "outputs": [],
   "source": [
    "year_list = [i for i in range(2012,2021)]\n",
    "year_list.reverse()"
   ]
  },
  {
   "cell_type": "code",
   "execution_count": 4,
   "metadata": {},
   "outputs": [
    {
     "data": {
      "text/plain": [
       "[2020, 2019, 2018, 2017, 2016, 2015, 2014, 2013, 2012]"
      ]
     },
     "execution_count": 4,
     "metadata": {},
     "output_type": "execute_result"
    }
   ],
   "source": [
    "year_list"
   ]
  },
  {
   "cell_type": "code",
   "execution_count": 5,
   "metadata": {},
   "outputs": [],
   "source": [
    "year = year_list[0]"
   ]
  },
  {
   "cell_type": "code",
   "execution_count": 6,
   "metadata": {},
   "outputs": [],
   "source": [
    "driver = webdriver.Chrome('./chromedriver')"
   ]
  },
  {
   "cell_type": "code",
   "execution_count": 11,
   "metadata": {},
   "outputs": [],
   "source": [
    "data_list = []\n",
    "for i in range(1,9):\n",
    "    \n",
    "    url = 'https://search.naver.com/search.naver?where=nexearch&sm=tab_etc&query='+str(year)+'%EB%85%84%20%EC%98%81%ED%99%94%20%EC%88%9C%EC%9C%84'\n",
    "\n",
    "    driver.get(url)\n",
    "\n",
    "    ranking = driver.find_element_by_xpath('//*[@id=\"main_pack\"]/div[2]/div/div[2]/div/div[1]/div[3]/div[1]/ul/li['+str(i)+']/div[2]/a/div/span').text\n",
    "\n",
    "    driver.find_element_by_xpath('//*[@id=\"main_pack\"]/div[2]/div/div[2]/div/div[1]/div[3]/div[1]/ul/li['+str(i)+']/div[2]/a/div/span').click()\n",
    "\n",
    "    title = driver.find_element_by_xpath('//*[@id=\"main_pack\"]/div[2]/div[1]/div[1]/h2/a/strong').text\n",
    "\n",
    "    # get the image source\n",
    "    img = driver.find_element_by_xpath('//*[@id=\"main_pack\"]/div[2]/div[2]/div[1]/div/div[2]/a/img')\n",
    "    src = img.get_attribute('src')\n",
    "\n",
    "    # download the image\n",
    "    urllib.request.urlretrieve(src, 'image/'+title+'_poster.jpg')\n",
    "\n",
    "#     score = driver.find_element_by_xpath('//*[@id=\"main_pack\"]/div[2]/div[2]/div[1]/div/div[2]/dl/div[3]/dd').text\n",
    "\n",
    "#     attendance = driver.find_element_by_xpath('//*[@id=\"main_pack\"]/div[2]/div[2]/div[1]/div/div[2]/dl/div[4]/dd').text\n",
    "\n",
    "    driver.find_element_by_xpath('//*[@id=\"main_pack\"]/div[2]/div[1]/div[2]/div/div/ul/li[2]/a/span').click()\n",
    "\n",
    "    release_date = driver.find_element_by_xpath('//*[@id=\"main_pack\"]/div[1]/div[2]/div[1]/div/div[1]/dl/div[1]/dd').text\n",
    "\n",
    "    genre = driver.find_element_by_xpath('//*[@id=\"main_pack\"]/div[1]/div[2]/div[1]/div/div[1]/dl/div[3]/dd').text\n",
    "\n",
    "    country = driver.find_element_by_xpath('//*[@id=\"main_pack\"]/div[1]/div[2]/div[1]/div/div[1]/dl/div[4]/dd').text\n",
    "\n",
    "    running_time = driver.find_element_by_xpath('//*[@id=\"main_pack\"]/div[1]/div[2]/div[1]/div/div[1]/dl/div[5]/dd').text\n",
    "\n",
    "    introduce = driver.find_element_by_xpath('//*[@id=\"main_pack\"]/div[1]/div[2]/div[2]/div/div[2]/p').text\n",
    "\n",
    "    driver.find_element_by_xpath('//*[@id=\"main_pack\"]/div[1]/div[1]/div[2]/div/div/ul/li[5]/a/span').click()\n",
    "\n",
    "    driver.find_element_by_xpath('//*[@id=\"main_pack\"]/div[1]/div[2]/div[1]/div/div/ul/li[1]/a/div[1]/div/i').click()\n",
    "\n",
    "    video_url = driver.current_url\n",
    "    \n",
    "    df = pd.DataFrame([title, ranking, score, attendance, release_date, genre, country, running_time, introduce, title+'_poster.jpg', video_url]).T\n",
    "    df.columns = ['title', 'ranking', 'score', 'attendance', 'release_date', 'genre', 'country', 'running_time', 'introduce', 'image_name', 'video_url']\n",
    "    data_list.append(df)\n",
    "    \n",
    "    driver.back()"
   ]
  },
  {
   "cell_type": "code",
   "execution_count": null,
   "metadata": {},
   "outputs": [],
   "source": []
  }
 ],
 "metadata": {
  "kernelspec": {
   "display_name": "crawling",
   "language": "python",
   "name": "crawling"
  },
  "language_info": {
   "codemirror_mode": {
    "name": "ipython",
    "version": 3
   },
   "file_extension": ".py",
   "mimetype": "text/x-python",
   "name": "python",
   "nbconvert_exporter": "python",
   "pygments_lexer": "ipython3",
   "version": "3.8.5"
  }
 },
 "nbformat": 4,
 "nbformat_minor": 2
}
