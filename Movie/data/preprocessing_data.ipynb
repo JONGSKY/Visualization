{
 "cells": [
  {
   "cell_type": "code",
   "execution_count": 1,
   "metadata": {},
   "outputs": [],
   "source": [
    "import pandas as pd"
   ]
  },
  {
   "cell_type": "code",
   "execution_count": 2,
   "metadata": {},
   "outputs": [],
   "source": [
    "movie_df = pd.read_csv('movie_data.csv')\n",
    "info_df = pd.read_csv('movie_info_data.csv')"
   ]
  },
  {
   "cell_type": "code",
   "execution_count": 3,
   "metadata": {},
   "outputs": [
    {
     "name": "stdout",
     "output_type": "stream",
     "text": [
      "(1200, 7)\n",
      "(1200, 9)\n"
     ]
    }
   ],
   "source": [
    "preprocessing_movie_df = movie_df[['searchdate','rank','movieCd','movieNm','openDt','salesAcc','audiAcc']]\n",
    "preprocessing_info_df = info_df.rename(columns={'movieCd':'code'})\n",
    "print(preprocessing_movie_df.shape)\n",
    "print(preprocessing_info_df.shape)"
   ]
  },
  {
   "cell_type": "code",
   "execution_count": 4,
   "metadata": {},
   "outputs": [
    {
     "data": {
      "text/plain": [
       "(1200, 16)"
      ]
     },
     "execution_count": 4,
     "metadata": {},
     "output_type": "execute_result"
    }
   ],
   "source": [
    "result = pd.concat([preprocessing_movie_df, preprocessing_info_df], axis=1)\n",
    "result[result['movieCd'] == result['code']].shape"
   ]
  },
  {
   "cell_type": "code",
   "execution_count": 5,
   "metadata": {},
   "outputs": [],
   "source": [
    "del result['code']"
   ]
  },
  {
   "cell_type": "code",
   "execution_count": 6,
   "metadata": {},
   "outputs": [
    {
     "data": {
      "text/plain": [
       "(1200, 15)"
      ]
     },
     "execution_count": 6,
     "metadata": {},
     "output_type": "execute_result"
    }
   ],
   "source": [
    "result.shape"
   ]
  },
  {
   "cell_type": "code",
   "execution_count": 7,
   "metadata": {},
   "outputs": [
    {
     "data": {
      "text/html": [
       "<div>\n",
       "<style scoped>\n",
       "    .dataframe tbody tr th:only-of-type {\n",
       "        vertical-align: middle;\n",
       "    }\n",
       "\n",
       "    .dataframe tbody tr th {\n",
       "        vertical-align: top;\n",
       "    }\n",
       "\n",
       "    .dataframe thead th {\n",
       "        text-align: right;\n",
       "    }\n",
       "</style>\n",
       "<table border=\"1\" class=\"dataframe\">\n",
       "  <thead>\n",
       "    <tr style=\"text-align: right;\">\n",
       "      <th></th>\n",
       "      <th>searchdate</th>\n",
       "      <th>rank</th>\n",
       "      <th>movieCd</th>\n",
       "      <th>movieNm</th>\n",
       "      <th>openDt</th>\n",
       "      <th>salesAcc</th>\n",
       "      <th>audiAcc</th>\n",
       "      <th>movieNmEn</th>\n",
       "      <th>showTm</th>\n",
       "      <th>typeNm</th>\n",
       "      <th>nationNm</th>\n",
       "      <th>genreNm</th>\n",
       "      <th>directors</th>\n",
       "      <th>actors</th>\n",
       "      <th>watchGradeNm</th>\n",
       "    </tr>\n",
       "  </thead>\n",
       "  <tbody>\n",
       "    <tr>\n",
       "      <th>0</th>\n",
       "      <td>20200901</td>\n",
       "      <td>1</td>\n",
       "      <td>20201122</td>\n",
       "      <td>테넷</td>\n",
       "      <td>2020-08-26</td>\n",
       "      <td>6902129920</td>\n",
       "      <td>760852</td>\n",
       "      <td>Tenet</td>\n",
       "      <td>149.0</td>\n",
       "      <td>장편</td>\n",
       "      <td>미국</td>\n",
       "      <td>액션,SF</td>\n",
       "      <td>크리스토퍼 놀란</td>\n",
       "      <td>존 데이비드 워싱턴,로버트 패틴슨,엘리자베스 데비키,애런 존슨,마이클 케인,케네스 ...</td>\n",
       "      <td>12세이상관람가</td>\n",
       "    </tr>\n",
       "    <tr>\n",
       "      <th>1</th>\n",
       "      <td>20200901</td>\n",
       "      <td>2</td>\n",
       "      <td>20197922</td>\n",
       "      <td>다만 악에서 구하소서</td>\n",
       "      <td>2020-08-05</td>\n",
       "      <td>37840926140</td>\n",
       "      <td>4269455</td>\n",
       "      <td>DELIVER US FROM EVIL</td>\n",
       "      <td>107.0</td>\n",
       "      <td>장편</td>\n",
       "      <td>한국</td>\n",
       "      <td>범죄,액션</td>\n",
       "      <td>홍원찬</td>\n",
       "      <td>황정민,이정재,박정민</td>\n",
       "      <td>15세이상관람가</td>\n",
       "    </tr>\n",
       "    <tr>\n",
       "      <th>2</th>\n",
       "      <td>20200901</td>\n",
       "      <td>3</td>\n",
       "      <td>20199883</td>\n",
       "      <td>오케이 마담</td>\n",
       "      <td>2020-08-12</td>\n",
       "      <td>10820555960</td>\n",
       "      <td>1208973</td>\n",
       "      <td>OK! MADAM</td>\n",
       "      <td>100.0</td>\n",
       "      <td>장편</td>\n",
       "      <td>한국</td>\n",
       "      <td>코미디,액션</td>\n",
       "      <td>이철하</td>\n",
       "      <td>엄정화,박성웅,이상윤,배정남,이선빈,조성희,최진호,유수정</td>\n",
       "      <td>15세이상관람가</td>\n",
       "    </tr>\n",
       "  </tbody>\n",
       "</table>\n",
       "</div>"
      ],
      "text/plain": [
       "   searchdate  rank   movieCd      movieNm      openDt     salesAcc  audiAcc  \\\n",
       "0    20200901     1  20201122           테넷  2020-08-26   6902129920   760852   \n",
       "1    20200901     2  20197922  다만 악에서 구하소서  2020-08-05  37840926140  4269455   \n",
       "2    20200901     3  20199883       오케이 마담  2020-08-12  10820555960  1208973   \n",
       "\n",
       "              movieNmEn  showTm typeNm nationNm genreNm directors  \\\n",
       "0                 Tenet   149.0     장편       미국   액션,SF  크리스토퍼 놀란   \n",
       "1  DELIVER US FROM EVIL   107.0     장편       한국   범죄,액션       홍원찬   \n",
       "2             OK! MADAM   100.0     장편       한국  코미디,액션       이철하   \n",
       "\n",
       "                                              actors watchGradeNm  \n",
       "0  존 데이비드 워싱턴,로버트 패틴슨,엘리자베스 데비키,애런 존슨,마이클 케인,케네스 ...     12세이상관람가  \n",
       "1                                        황정민,이정재,박정민     15세이상관람가  \n",
       "2                    엄정화,박성웅,이상윤,배정남,이선빈,조성희,최진호,유수정     15세이상관람가  "
      ]
     },
     "execution_count": 7,
     "metadata": {},
     "output_type": "execute_result"
    }
   ],
   "source": [
    "result.head(3)"
   ]
  },
  {
   "cell_type": "code",
   "execution_count": 8,
   "metadata": {},
   "outputs": [],
   "source": [
    "result.to_csv('result.csv', index=False)"
   ]
  }
 ],
 "metadata": {
  "kernelspec": {
   "display_name": "python_3",
   "language": "python",
   "name": "python_3"
  },
  "language_info": {
   "codemirror_mode": {
    "name": "ipython",
    "version": 3
   },
   "file_extension": ".py",
   "mimetype": "text/x-python",
   "name": "python",
   "nbconvert_exporter": "python",
   "pygments_lexer": "ipython3",
   "version": "3.8.5"
  }
 },
 "nbformat": 4,
 "nbformat_minor": 4
}
