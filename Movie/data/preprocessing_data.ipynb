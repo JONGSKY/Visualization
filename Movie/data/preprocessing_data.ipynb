{
 "cells": [
  {
   "cell_type": "code",
   "execution_count": 1,
   "metadata": {},
   "outputs": [],
   "source": [
    "import pandas as pd\n",
    "from datetime import datetime"
   ]
  },
  {
   "cell_type": "code",
   "execution_count": 2,
   "metadata": {},
   "outputs": [],
   "source": [
    "movie_df = pd.read_csv('movie_data.csv')\n",
    "info_df = pd.read_csv('movie_info_data.csv')\n",
    "url_df = pd.read_csv('movie_url_data.csv')"
   ]
  },
  {
   "cell_type": "code",
   "execution_count": 3,
   "metadata": {},
   "outputs": [
    {
     "name": "stdout",
     "output_type": "stream",
     "text": [
      "(1200, 7)\n",
      "(1200, 9)\n",
      "(1200, 2)\n"
     ]
    }
   ],
   "source": [
    "preprocessing_movie_df = movie_df[['searchdate','rank','movieCd','movieNm','openDt','salesAcc','audiAcc']]\n",
    "preprocessing_info_df = info_df.rename(columns={'movieCd':'code'})\n",
    "preprocessing_url_df = url_df.rename(columns={'movieNm':'moviename'})\n",
    "print(preprocessing_movie_df.shape)\n",
    "print(preprocessing_info_df.shape)\n",
    "print(preprocessing_url_df.shape)"
   ]
  },
  {
   "cell_type": "code",
   "execution_count": 4,
   "metadata": {},
   "outputs": [
    {
     "data": {
      "text/plain": [
       "(1200, 16)"
      ]
     },
     "execution_count": 4,
     "metadata": {},
     "output_type": "execute_result"
    }
   ],
   "source": [
    "result = pd.concat([preprocessing_movie_df, preprocessing_info_df], axis=1)\n",
    "result[result['movieCd'] == result['code']].shape"
   ]
  },
  {
   "cell_type": "code",
   "execution_count": 5,
   "metadata": {},
   "outputs": [],
   "source": [
    "del result['code']"
   ]
  },
  {
   "cell_type": "code",
   "execution_count": 6,
   "metadata": {},
   "outputs": [
    {
     "data": {
      "text/plain": [
       "(1200, 15)"
      ]
     },
     "execution_count": 6,
     "metadata": {},
     "output_type": "execute_result"
    }
   ],
   "source": [
    "result.shape"
   ]
  },
  {
   "cell_type": "code",
   "execution_count": 7,
   "metadata": {},
   "outputs": [
    {
     "data": {
      "text/plain": [
       "(1200, 17)"
      ]
     },
     "execution_count": 7,
     "metadata": {},
     "output_type": "execute_result"
    }
   ],
   "source": [
    "result = pd.concat([result, preprocessing_url_df], axis=1)\n",
    "result[result['movieNm'] == preprocessing_url_df['moviename']].shape"
   ]
  },
  {
   "cell_type": "code",
   "execution_count": 8,
   "metadata": {},
   "outputs": [],
   "source": [
    "del result['moviename']"
   ]
  },
  {
   "cell_type": "code",
   "execution_count": 9,
   "metadata": {},
   "outputs": [
    {
     "data": {
      "text/plain": [
       "(1200, 16)"
      ]
     },
     "execution_count": 9,
     "metadata": {},
     "output_type": "execute_result"
    }
   ],
   "source": [
    "result.shape"
   ]
  },
  {
   "cell_type": "code",
   "execution_count": 10,
   "metadata": {},
   "outputs": [
    {
     "data": {
      "text/html": [
       "<div>\n",
       "<style scoped>\n",
       "    .dataframe tbody tr th:only-of-type {\n",
       "        vertical-align: middle;\n",
       "    }\n",
       "\n",
       "    .dataframe tbody tr th {\n",
       "        vertical-align: top;\n",
       "    }\n",
       "\n",
       "    .dataframe thead th {\n",
       "        text-align: right;\n",
       "    }\n",
       "</style>\n",
       "<table border=\"1\" class=\"dataframe\">\n",
       "  <thead>\n",
       "    <tr style=\"text-align: right;\">\n",
       "      <th></th>\n",
       "      <th>searchdate</th>\n",
       "      <th>rank</th>\n",
       "      <th>movieCd</th>\n",
       "      <th>movieNm</th>\n",
       "      <th>openDt</th>\n",
       "      <th>salesAcc</th>\n",
       "      <th>audiAcc</th>\n",
       "      <th>movieNmEn</th>\n",
       "      <th>showTm</th>\n",
       "      <th>typeNm</th>\n",
       "      <th>nationNm</th>\n",
       "      <th>genreNm</th>\n",
       "      <th>directors</th>\n",
       "      <th>actors</th>\n",
       "      <th>watchGradeNm</th>\n",
       "      <th>movieUrl</th>\n",
       "    </tr>\n",
       "  </thead>\n",
       "  <tbody>\n",
       "    <tr>\n",
       "      <th>0</th>\n",
       "      <td>20200901</td>\n",
       "      <td>1</td>\n",
       "      <td>20201122</td>\n",
       "      <td>테넷</td>\n",
       "      <td>2020-08-26</td>\n",
       "      <td>6902129920</td>\n",
       "      <td>760852</td>\n",
       "      <td>Tenet</td>\n",
       "      <td>149.0</td>\n",
       "      <td>장편</td>\n",
       "      <td>미국</td>\n",
       "      <td>액션,SF</td>\n",
       "      <td>크리스토퍼 놀란</td>\n",
       "      <td>존 데이비드 워싱턴,로버트 패틴슨,엘리자베스 데비키,애런 존슨,마이클 케인,케네스 ...</td>\n",
       "      <td>12세이상관람가</td>\n",
       "      <td>https://movie.naver.com/movie/bi/mi/basic.nhn?...</td>\n",
       "    </tr>\n",
       "    <tr>\n",
       "      <th>1</th>\n",
       "      <td>20200901</td>\n",
       "      <td>2</td>\n",
       "      <td>20197922</td>\n",
       "      <td>다만 악에서 구하소서</td>\n",
       "      <td>2020-08-05</td>\n",
       "      <td>37840926140</td>\n",
       "      <td>4269455</td>\n",
       "      <td>DELIVER US FROM EVIL</td>\n",
       "      <td>107.0</td>\n",
       "      <td>장편</td>\n",
       "      <td>한국</td>\n",
       "      <td>범죄,액션</td>\n",
       "      <td>홍원찬</td>\n",
       "      <td>황정민,이정재,박정민</td>\n",
       "      <td>15세이상관람가</td>\n",
       "      <td>https://movie.naver.com/movie/bi/mi/basic.nhn?...</td>\n",
       "    </tr>\n",
       "    <tr>\n",
       "      <th>2</th>\n",
       "      <td>20200901</td>\n",
       "      <td>3</td>\n",
       "      <td>20199883</td>\n",
       "      <td>오케이 마담</td>\n",
       "      <td>2020-08-12</td>\n",
       "      <td>10820555960</td>\n",
       "      <td>1208973</td>\n",
       "      <td>OK! MADAM</td>\n",
       "      <td>100.0</td>\n",
       "      <td>장편</td>\n",
       "      <td>한국</td>\n",
       "      <td>코미디,액션</td>\n",
       "      <td>이철하</td>\n",
       "      <td>엄정화,박성웅,이상윤,배정남,이선빈,조성희,최진호,유수정</td>\n",
       "      <td>15세이상관람가</td>\n",
       "      <td>https://movie.naver.com/movie/bi/mi/basic.nhn?...</td>\n",
       "    </tr>\n",
       "  </tbody>\n",
       "</table>\n",
       "</div>"
      ],
      "text/plain": [
       "   searchdate  rank   movieCd      movieNm      openDt     salesAcc  audiAcc  \\\n",
       "0    20200901     1  20201122           테넷  2020-08-26   6902129920   760852   \n",
       "1    20200901     2  20197922  다만 악에서 구하소서  2020-08-05  37840926140  4269455   \n",
       "2    20200901     3  20199883       오케이 마담  2020-08-12  10820555960  1208973   \n",
       "\n",
       "              movieNmEn  showTm typeNm nationNm genreNm directors  \\\n",
       "0                 Tenet   149.0     장편       미국   액션,SF  크리스토퍼 놀란   \n",
       "1  DELIVER US FROM EVIL   107.0     장편       한국   범죄,액션       홍원찬   \n",
       "2             OK! MADAM   100.0     장편       한국  코미디,액션       이철하   \n",
       "\n",
       "                                              actors watchGradeNm  \\\n",
       "0  존 데이비드 워싱턴,로버트 패틴슨,엘리자베스 데비키,애런 존슨,마이클 케인,케네스 ...     12세이상관람가   \n",
       "1                                        황정민,이정재,박정민     15세이상관람가   \n",
       "2                    엄정화,박성웅,이상윤,배정남,이선빈,조성희,최진호,유수정     15세이상관람가   \n",
       "\n",
       "                                            movieUrl  \n",
       "0  https://movie.naver.com/movie/bi/mi/basic.nhn?...  \n",
       "1  https://movie.naver.com/movie/bi/mi/basic.nhn?...  \n",
       "2  https://movie.naver.com/movie/bi/mi/basic.nhn?...  "
      ]
     },
     "execution_count": 10,
     "metadata": {},
     "output_type": "execute_result"
    }
   ],
   "source": [
    "result.head(3)"
   ]
  },
  {
   "cell_type": "code",
   "execution_count": 11,
   "metadata": {},
   "outputs": [
    {
     "name": "stderr",
     "output_type": "stream",
     "text": [
      "<ipython-input-11-62781294865f>:1: SettingWithCopyWarning: \n",
      "A value is trying to be set on a copy of a slice from a DataFrame\n",
      "\n",
      "See the caveats in the documentation: https://pandas.pydata.org/pandas-docs/stable/user_guide/indexing.html#returning-a-view-versus-a-copy\n",
      "  result['movieNm'][1058] = '50대50'\n"
     ]
    }
   ],
   "source": [
    "result['movieNm'][1058] = '50대50'"
   ]
  },
  {
   "cell_type": "code",
   "execution_count": 12,
   "metadata": {},
   "outputs": [
    {
     "data": {
      "text/html": [
       "<div>\n",
       "<style scoped>\n",
       "    .dataframe tbody tr th:only-of-type {\n",
       "        vertical-align: middle;\n",
       "    }\n",
       "\n",
       "    .dataframe tbody tr th {\n",
       "        vertical-align: top;\n",
       "    }\n",
       "\n",
       "    .dataframe thead th {\n",
       "        text-align: right;\n",
       "    }\n",
       "</style>\n",
       "<table border=\"1\" class=\"dataframe\">\n",
       "  <thead>\n",
       "    <tr style=\"text-align: right;\">\n",
       "      <th></th>\n",
       "      <th>searchdate</th>\n",
       "      <th>rank</th>\n",
       "      <th>movieCd</th>\n",
       "      <th>movieNm</th>\n",
       "      <th>openDt</th>\n",
       "      <th>salesAcc</th>\n",
       "      <th>audiAcc</th>\n",
       "      <th>movieNmEn</th>\n",
       "      <th>showTm</th>\n",
       "      <th>typeNm</th>\n",
       "      <th>nationNm</th>\n",
       "      <th>genreNm</th>\n",
       "      <th>directors</th>\n",
       "      <th>actors</th>\n",
       "      <th>watchGradeNm</th>\n",
       "      <th>movieUrl</th>\n",
       "    </tr>\n",
       "  </thead>\n",
       "  <tbody>\n",
       "    <tr>\n",
       "      <th>1058</th>\n",
       "      <td>20111201</td>\n",
       "      <td>9</td>\n",
       "      <td>20113306</td>\n",
       "      <td>50대50</td>\n",
       "      <td>2011-11-24</td>\n",
       "      <td>625897500</td>\n",
       "      <td>84795</td>\n",
       "      <td>NaN</td>\n",
       "      <td>100.0</td>\n",
       "      <td>장편</td>\n",
       "      <td>미국</td>\n",
       "      <td>코미디,드라마</td>\n",
       "      <td>조나단 레빈</td>\n",
       "      <td>조셉 고든 레빗,세스 로건</td>\n",
       "      <td>15세이상관람가</td>\n",
       "      <td>https://movie.naver.com/movie/bi/mi/basic.nhn?...</td>\n",
       "    </tr>\n",
       "  </tbody>\n",
       "</table>\n",
       "</div>"
      ],
      "text/plain": [
       "      searchdate  rank   movieCd movieNm      openDt   salesAcc  audiAcc  \\\n",
       "1058    20111201     9  20113306   50대50  2011-11-24  625897500    84795   \n",
       "\n",
       "     movieNmEn  showTm typeNm nationNm  genreNm directors          actors  \\\n",
       "1058       NaN   100.0     장편       미국  코미디,드라마    조나단 레빈  조셉 고든 레빗,세스 로건   \n",
       "\n",
       "     watchGradeNm                                           movieUrl  \n",
       "1058     15세이상관람가  https://movie.naver.com/movie/bi/mi/basic.nhn?...  "
      ]
     },
     "execution_count": 12,
     "metadata": {},
     "output_type": "execute_result"
    }
   ],
   "source": [
    "result[result['movieNm'] == '50대50']"
   ]
  },
  {
   "cell_type": "code",
   "execution_count": 13,
   "metadata": {},
   "outputs": [],
   "source": [
    "result = result[(result['rank'] == 1) | (result['rank'] == 2) | (result['rank'] == 3)]\n",
    "\n",
    "result['searchdate'] = result['searchdate'].apply(lambda x: pd.to_datetime(str(x), format='%Y%m%d'))\n",
    "\n",
    "result = result[result['searchdate'] > datetime(2019, 9, 30)].reset_index(drop=True)"
   ]
  },
  {
   "cell_type": "code",
   "execution_count": 14,
   "metadata": {},
   "outputs": [
    {
     "data": {
      "text/plain": [
       "(36, 16)"
      ]
     },
     "execution_count": 14,
     "metadata": {},
     "output_type": "execute_result"
    }
   ],
   "source": [
    "result.shape"
   ]
  },
  {
   "cell_type": "code",
   "execution_count": 15,
   "metadata": {},
   "outputs": [
    {
     "data": {
      "text/html": [
       "<div>\n",
       "<style scoped>\n",
       "    .dataframe tbody tr th:only-of-type {\n",
       "        vertical-align: middle;\n",
       "    }\n",
       "\n",
       "    .dataframe tbody tr th {\n",
       "        vertical-align: top;\n",
       "    }\n",
       "\n",
       "    .dataframe thead th {\n",
       "        text-align: right;\n",
       "    }\n",
       "</style>\n",
       "<table border=\"1\" class=\"dataframe\">\n",
       "  <thead>\n",
       "    <tr style=\"text-align: right;\">\n",
       "      <th></th>\n",
       "      <th>searchdate</th>\n",
       "      <th>rank</th>\n",
       "      <th>movieCd</th>\n",
       "      <th>movieNm</th>\n",
       "      <th>openDt</th>\n",
       "      <th>salesAcc</th>\n",
       "      <th>audiAcc</th>\n",
       "      <th>movieNmEn</th>\n",
       "      <th>showTm</th>\n",
       "      <th>typeNm</th>\n",
       "      <th>nationNm</th>\n",
       "      <th>genreNm</th>\n",
       "      <th>directors</th>\n",
       "      <th>actors</th>\n",
       "      <th>watchGradeNm</th>\n",
       "      <th>movieUrl</th>\n",
       "    </tr>\n",
       "  </thead>\n",
       "  <tbody>\n",
       "    <tr>\n",
       "      <th>0</th>\n",
       "      <td>2020-09-01</td>\n",
       "      <td>1</td>\n",
       "      <td>20201122</td>\n",
       "      <td>테넷</td>\n",
       "      <td>2020-08-26</td>\n",
       "      <td>6902129920</td>\n",
       "      <td>760852</td>\n",
       "      <td>Tenet</td>\n",
       "      <td>149.0</td>\n",
       "      <td>장편</td>\n",
       "      <td>미국</td>\n",
       "      <td>액션,SF</td>\n",
       "      <td>크리스토퍼 놀란</td>\n",
       "      <td>존 데이비드 워싱턴,로버트 패틴슨,엘리자베스 데비키,애런 존슨,마이클 케인,케네스 ...</td>\n",
       "      <td>12세이상관람가</td>\n",
       "      <td>https://movie.naver.com/movie/bi/mi/basic.nhn?...</td>\n",
       "    </tr>\n",
       "    <tr>\n",
       "      <th>1</th>\n",
       "      <td>2020-09-01</td>\n",
       "      <td>2</td>\n",
       "      <td>20197922</td>\n",
       "      <td>다만 악에서 구하소서</td>\n",
       "      <td>2020-08-05</td>\n",
       "      <td>37840926140</td>\n",
       "      <td>4269455</td>\n",
       "      <td>DELIVER US FROM EVIL</td>\n",
       "      <td>107.0</td>\n",
       "      <td>장편</td>\n",
       "      <td>한국</td>\n",
       "      <td>범죄,액션</td>\n",
       "      <td>홍원찬</td>\n",
       "      <td>황정민,이정재,박정민</td>\n",
       "      <td>15세이상관람가</td>\n",
       "      <td>https://movie.naver.com/movie/bi/mi/basic.nhn?...</td>\n",
       "    </tr>\n",
       "    <tr>\n",
       "      <th>2</th>\n",
       "      <td>2020-09-01</td>\n",
       "      <td>3</td>\n",
       "      <td>20199883</td>\n",
       "      <td>오케이 마담</td>\n",
       "      <td>2020-08-12</td>\n",
       "      <td>10820555960</td>\n",
       "      <td>1208973</td>\n",
       "      <td>OK! MADAM</td>\n",
       "      <td>100.0</td>\n",
       "      <td>장편</td>\n",
       "      <td>한국</td>\n",
       "      <td>코미디,액션</td>\n",
       "      <td>이철하</td>\n",
       "      <td>엄정화,박성웅,이상윤,배정남,이선빈,조성희,최진호,유수정</td>\n",
       "      <td>15세이상관람가</td>\n",
       "      <td>https://movie.naver.com/movie/bi/mi/basic.nhn?...</td>\n",
       "    </tr>\n",
       "    <tr>\n",
       "      <th>3</th>\n",
       "      <td>2020-08-01</td>\n",
       "      <td>1</td>\n",
       "      <td>20196271</td>\n",
       "      <td>강철비2: 정상회담</td>\n",
       "      <td>2020-07-29</td>\n",
       "      <td>6333379000</td>\n",
       "      <td>788516</td>\n",
       "      <td>Steel Rain2: Summit</td>\n",
       "      <td>131.0</td>\n",
       "      <td>장편</td>\n",
       "      <td>한국</td>\n",
       "      <td>드라마,액션</td>\n",
       "      <td>양우석</td>\n",
       "      <td>정우성,유연석,곽도원,앵거스 맥페이든,신정근,류수영,염정아,김용림,김명곤,장광,이재...</td>\n",
       "      <td>15세이상관람가</td>\n",
       "      <td>https://movie.naver.com/movie/bi/mi/basic.nhn?...</td>\n",
       "    </tr>\n",
       "    <tr>\n",
       "      <th>4</th>\n",
       "      <td>2020-08-01</td>\n",
       "      <td>2</td>\n",
       "      <td>20193450</td>\n",
       "      <td>반도</td>\n",
       "      <td>2020-07-15</td>\n",
       "      <td>29037551980</td>\n",
       "      <td>3339218</td>\n",
       "      <td>Peninsula</td>\n",
       "      <td>115.0</td>\n",
       "      <td>장편</td>\n",
       "      <td>한국</td>\n",
       "      <td>액션,드라마</td>\n",
       "      <td>연상호</td>\n",
       "      <td>강동원,이정현,권해효,김민재,구교환,김도윤,이레,이예원,김규백,황영희,장소연,문우진...</td>\n",
       "      <td>15세이상관람가</td>\n",
       "      <td>https://movie.naver.com/movie/bi/mi/basic.nhn?...</td>\n",
       "    </tr>\n",
       "  </tbody>\n",
       "</table>\n",
       "</div>"
      ],
      "text/plain": [
       "  searchdate  rank   movieCd      movieNm      openDt     salesAcc  audiAcc  \\\n",
       "0 2020-09-01     1  20201122           테넷  2020-08-26   6902129920   760852   \n",
       "1 2020-09-01     2  20197922  다만 악에서 구하소서  2020-08-05  37840926140  4269455   \n",
       "2 2020-09-01     3  20199883       오케이 마담  2020-08-12  10820555960  1208973   \n",
       "3 2020-08-01     1  20196271   강철비2: 정상회담  2020-07-29   6333379000   788516   \n",
       "4 2020-08-01     2  20193450           반도  2020-07-15  29037551980  3339218   \n",
       "\n",
       "              movieNmEn  showTm typeNm nationNm genreNm directors  \\\n",
       "0                 Tenet   149.0     장편       미국   액션,SF  크리스토퍼 놀란   \n",
       "1  DELIVER US FROM EVIL   107.0     장편       한국   범죄,액션       홍원찬   \n",
       "2             OK! MADAM   100.0     장편       한국  코미디,액션       이철하   \n",
       "3   Steel Rain2: Summit   131.0     장편       한국  드라마,액션       양우석   \n",
       "4             Peninsula   115.0     장편       한국  액션,드라마       연상호   \n",
       "\n",
       "                                              actors watchGradeNm  \\\n",
       "0  존 데이비드 워싱턴,로버트 패틴슨,엘리자베스 데비키,애런 존슨,마이클 케인,케네스 ...     12세이상관람가   \n",
       "1                                        황정민,이정재,박정민     15세이상관람가   \n",
       "2                    엄정화,박성웅,이상윤,배정남,이선빈,조성희,최진호,유수정     15세이상관람가   \n",
       "3  정우성,유연석,곽도원,앵거스 맥페이든,신정근,류수영,염정아,김용림,김명곤,장광,이재...     15세이상관람가   \n",
       "4  강동원,이정현,권해효,김민재,구교환,김도윤,이레,이예원,김규백,황영희,장소연,문우진...     15세이상관람가   \n",
       "\n",
       "                                            movieUrl  \n",
       "0  https://movie.naver.com/movie/bi/mi/basic.nhn?...  \n",
       "1  https://movie.naver.com/movie/bi/mi/basic.nhn?...  \n",
       "2  https://movie.naver.com/movie/bi/mi/basic.nhn?...  \n",
       "3  https://movie.naver.com/movie/bi/mi/basic.nhn?...  \n",
       "4  https://movie.naver.com/movie/bi/mi/basic.nhn?...  "
      ]
     },
     "execution_count": 15,
     "metadata": {},
     "output_type": "execute_result"
    }
   ],
   "source": [
    "result.head()"
   ]
  },
  {
   "cell_type": "code",
   "execution_count": 16,
   "metadata": {},
   "outputs": [],
   "source": [
    "result.to_csv('result.csv', index=False)"
   ]
  }
 ],
 "metadata": {
  "kernelspec": {
   "display_name": "python_3",
   "language": "python",
   "name": "python_3"
  },
  "language_info": {
   "codemirror_mode": {
    "name": "ipython",
    "version": 3
   },
   "file_extension": ".py",
   "mimetype": "text/x-python",
   "name": "python",
   "nbconvert_exporter": "python",
   "pygments_lexer": "ipython3",
   "version": "3.8.5"
  }
 },
 "nbformat": 4,
 "nbformat_minor": 4
}
