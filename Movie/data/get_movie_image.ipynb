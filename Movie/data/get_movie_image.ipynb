{
 "cells": [
  {
   "cell_type": "code",
   "execution_count": 6,
   "metadata": {},
   "outputs": [],
   "source": [
    "from selenium import webdriver\n",
    "from bs4 import BeautifulSoup\n",
    "import urllib.request\n",
    "import pandas as pd"
   ]
  },
  {
   "cell_type": "code",
   "execution_count": 15,
   "metadata": {},
   "outputs": [],
   "source": [
    "movie_df = pd.read_csv('movie_data.csv')"
   ]
  },
  {
   "cell_type": "code",
   "execution_count": 16,
   "metadata": {},
   "outputs": [
    {
     "data": {
      "text/html": [
       "<div>\n",
       "<style scoped>\n",
       "    .dataframe tbody tr th:only-of-type {\n",
       "        vertical-align: middle;\n",
       "    }\n",
       "\n",
       "    .dataframe tbody tr th {\n",
       "        vertical-align: top;\n",
       "    }\n",
       "\n",
       "    .dataframe thead th {\n",
       "        text-align: right;\n",
       "    }\n",
       "</style>\n",
       "<table border=\"1\" class=\"dataframe\">\n",
       "  <thead>\n",
       "    <tr style=\"text-align: right;\">\n",
       "      <th></th>\n",
       "      <th>rnum</th>\n",
       "      <th>rank</th>\n",
       "      <th>rankInten</th>\n",
       "      <th>rankOldAndNew</th>\n",
       "      <th>movieCd</th>\n",
       "      <th>movieNm</th>\n",
       "      <th>openDt</th>\n",
       "      <th>salesAmt</th>\n",
       "      <th>salesShare</th>\n",
       "      <th>salesInten</th>\n",
       "      <th>salesChange</th>\n",
       "      <th>salesAcc</th>\n",
       "      <th>audiCnt</th>\n",
       "      <th>audiInten</th>\n",
       "      <th>audiChange</th>\n",
       "      <th>audiAcc</th>\n",
       "      <th>scrnCnt</th>\n",
       "      <th>showCnt</th>\n",
       "      <th>searchdate</th>\n",
       "    </tr>\n",
       "  </thead>\n",
       "  <tbody>\n",
       "    <tr>\n",
       "      <th>0</th>\n",
       "      <td>1</td>\n",
       "      <td>1</td>\n",
       "      <td>0</td>\n",
       "      <td>OLD</td>\n",
       "      <td>20201122</td>\n",
       "      <td>테넷</td>\n",
       "      <td>2020-08-26</td>\n",
       "      <td>405736600</td>\n",
       "      <td>73.3</td>\n",
       "      <td>-72593680</td>\n",
       "      <td>-15.2</td>\n",
       "      <td>6902129920</td>\n",
       "      <td>46440</td>\n",
       "      <td>-7567</td>\n",
       "      <td>-14.0</td>\n",
       "      <td>760852</td>\n",
       "      <td>2018</td>\n",
       "      <td>6303</td>\n",
       "      <td>20200901</td>\n",
       "    </tr>\n",
       "    <tr>\n",
       "      <th>1</th>\n",
       "      <td>2</td>\n",
       "      <td>2</td>\n",
       "      <td>0</td>\n",
       "      <td>OLD</td>\n",
       "      <td>20197922</td>\n",
       "      <td>다만 악에서 구하소서</td>\n",
       "      <td>2020-08-05</td>\n",
       "      <td>71605890</td>\n",
       "      <td>12.9</td>\n",
       "      <td>-14860840</td>\n",
       "      <td>-17.2</td>\n",
       "      <td>37840926140</td>\n",
       "      <td>8671</td>\n",
       "      <td>-1981</td>\n",
       "      <td>-18.6</td>\n",
       "      <td>4269455</td>\n",
       "      <td>656</td>\n",
       "      <td>1696</td>\n",
       "      <td>20200901</td>\n",
       "    </tr>\n",
       "  </tbody>\n",
       "</table>\n",
       "</div>"
      ],
      "text/plain": [
       "   rnum  rank  rankInten rankOldAndNew   movieCd      movieNm      openDt  \\\n",
       "0     1     1          0           OLD  20201122           테넷  2020-08-26   \n",
       "1     2     2          0           OLD  20197922  다만 악에서 구하소서  2020-08-05   \n",
       "\n",
       "    salesAmt  salesShare  salesInten  salesChange     salesAcc  audiCnt  \\\n",
       "0  405736600        73.3   -72593680        -15.2   6902129920    46440   \n",
       "1   71605890        12.9   -14860840        -17.2  37840926140     8671   \n",
       "\n",
       "   audiInten  audiChange  audiAcc  scrnCnt  showCnt  searchdate  \n",
       "0      -7567       -14.0   760852     2018     6303    20200901  \n",
       "1      -1981       -18.6  4269455      656     1696    20200901  "
      ]
     },
     "execution_count": 16,
     "metadata": {},
     "output_type": "execute_result"
    }
   ],
   "source": [
    "movie_df.head(2)"
   ]
  },
  {
   "cell_type": "code",
   "execution_count": null,
   "metadata": {},
   "outputs": [],
   "source": []
  }
 ],
 "metadata": {
  "kernelspec": {
   "display_name": "crawling",
   "language": "python",
   "name": "crawling"
  },
  "language_info": {
   "codemirror_mode": {
    "name": "ipython",
    "version": 3
   },
   "file_extension": ".py",
   "mimetype": "text/x-python",
   "name": "python",
   "nbconvert_exporter": "python",
   "pygments_lexer": "ipython3",
   "version": "3.8.5"
  }
 },
 "nbformat": 4,
 "nbformat_minor": 4
}
