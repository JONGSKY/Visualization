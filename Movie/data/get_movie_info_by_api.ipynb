{
 "cells": [
  {
   "cell_type": "code",
   "execution_count": 1,
   "metadata": {},
   "outputs": [],
   "source": [
    "import requests\n",
    "import json\n",
    "import pandas as pd\n",
    "import datetime\n",
    "from dateutil.relativedelta import *"
   ]
  },
  {
   "cell_type": "code",
   "execution_count": 2,
   "metadata": {},
   "outputs": [],
   "source": [
    "with open('key_info.json') as json_file:\n",
    "    json_data = json.load(json_file)\n",
    "    key = json_data['key']"
   ]
  },
  {
   "cell_type": "code",
   "execution_count": 3,
   "metadata": {},
   "outputs": [],
   "source": [
    "df = pd.read_csv('movie_data.csv')['movieCd']"
   ]
  },
  {
   "cell_type": "code",
   "execution_count": 4,
   "metadata": {},
   "outputs": [],
   "source": [
    "def get_movie_info_string(data, info_type, info_detail):\n",
    "    result = []\n",
    "    for i in range(len(data[info_type])):\n",
    "        result.append(data[info_type][i][info_detail])\n",
    "    result = ','.join(result)\n",
    "    return result"
   ]
  },
  {
   "cell_type": "code",
   "execution_count": 5,
   "metadata": {},
   "outputs": [],
   "source": [
    "data_list = []\n",
    "for movieCd in df:\n",
    "    data_dict = {}\n",
    "    url = 'http://www.kobis.or.kr/kobisopenapi/webservice/rest/movie/searchMovieInfo.json?key='+key+'&movieCd='+str(movieCd)\n",
    "    data = json.loads(requests.get(url).text)['movieInfoResult']['movieInfo']\n",
    "    data_dict['movieCd']      = [data['movieCd']]\n",
    "    data_dict['movieNmEn']    = [data['movieNmEn']]\n",
    "    data_dict['showTm']       = [data['showTm']]\n",
    "    data_dict['typeNm']       = [data['typeNm']]\n",
    "    data_dict['nationNm']     = [get_movie_info_string(data, 'nations', 'nationNm')]\n",
    "    data_dict['genreNm']      = [get_movie_info_string(data, 'genres', 'genreNm')]\n",
    "    data_dict['directors']    = [get_movie_info_string(data, 'directors', 'peopleNm')]\n",
    "    data_dict['actors']       = [get_movie_info_string(data, 'actors', 'peopleNm')]\n",
    "    data_dict['watchGradeNm'] = [get_movie_info_string(data, 'audits', 'watchGradeNm')]\n",
    "    data_df = pd.DataFrame(data_dict)\n",
    "    data_list.append(data_df)"
   ]
  },
  {
   "cell_type": "code",
   "execution_count": 6,
   "metadata": {},
   "outputs": [
    {
     "data": {
      "text/html": [
       "<div>\n",
       "<style scoped>\n",
       "    .dataframe tbody tr th:only-of-type {\n",
       "        vertical-align: middle;\n",
       "    }\n",
       "\n",
       "    .dataframe tbody tr th {\n",
       "        vertical-align: top;\n",
       "    }\n",
       "\n",
       "    .dataframe thead th {\n",
       "        text-align: right;\n",
       "    }\n",
       "</style>\n",
       "<table border=\"1\" class=\"dataframe\">\n",
       "  <thead>\n",
       "    <tr style=\"text-align: right;\">\n",
       "      <th></th>\n",
       "      <th>movieCd</th>\n",
       "      <th>movieNmEn</th>\n",
       "      <th>showTm</th>\n",
       "      <th>typeNm</th>\n",
       "      <th>nationNm</th>\n",
       "      <th>genreNm</th>\n",
       "      <th>directors</th>\n",
       "      <th>actors</th>\n",
       "      <th>watchGradeNm</th>\n",
       "    </tr>\n",
       "  </thead>\n",
       "  <tbody>\n",
       "    <tr>\n",
       "      <th>0</th>\n",
       "      <td>20201122</td>\n",
       "      <td>Tenet</td>\n",
       "      <td>149</td>\n",
       "      <td>장편</td>\n",
       "      <td>미국</td>\n",
       "      <td>액션,SF</td>\n",
       "      <td>크리스토퍼 놀란</td>\n",
       "      <td>존 데이비드 워싱턴,로버트 패틴슨,엘리자베스 데비키,애런 존슨,마이클 케인,케네스 ...</td>\n",
       "      <td>12세이상관람가</td>\n",
       "    </tr>\n",
       "    <tr>\n",
       "      <th>1</th>\n",
       "      <td>20197922</td>\n",
       "      <td>DELIVER US FROM EVIL</td>\n",
       "      <td>107</td>\n",
       "      <td>장편</td>\n",
       "      <td>한국</td>\n",
       "      <td>범죄,액션</td>\n",
       "      <td>홍원찬</td>\n",
       "      <td>황정민,이정재,박정민</td>\n",
       "      <td>15세이상관람가</td>\n",
       "    </tr>\n",
       "    <tr>\n",
       "      <th>2</th>\n",
       "      <td>20199883</td>\n",
       "      <td>OK! MADAM</td>\n",
       "      <td>100</td>\n",
       "      <td>장편</td>\n",
       "      <td>한국</td>\n",
       "      <td>코미디,액션</td>\n",
       "      <td>이철하</td>\n",
       "      <td>엄정화,박성웅,이상윤,배정남,이선빈,조성희,최진호,유수정</td>\n",
       "      <td>15세이상관람가</td>\n",
       "    </tr>\n",
       "    <tr>\n",
       "      <th>3</th>\n",
       "      <td>20202281</td>\n",
       "      <td>Crayon Shin-chan: Honeymoon Hurricane ~The Los...</td>\n",
       "      <td>99</td>\n",
       "      <td>장편</td>\n",
       "      <td>일본</td>\n",
       "      <td>애니메이션</td>\n",
       "      <td>하시모토 마사카즈</td>\n",
       "      <td>박영남,김환진,강희선,여민정,정유미</td>\n",
       "      <td>전체관람가</td>\n",
       "    </tr>\n",
       "    <tr>\n",
       "      <th>4</th>\n",
       "      <td>20010238</td>\n",
       "      <td>Memento</td>\n",
       "      <td>113</td>\n",
       "      <td>장편</td>\n",
       "      <td>미국</td>\n",
       "      <td>미스터리,범죄,스릴러</td>\n",
       "      <td>크리스토퍼 놀란</td>\n",
       "      <td>가이 피어스,캐리 앤 모스,조 판톨리아노</td>\n",
       "      <td>15세관람가,15세이상관람가</td>\n",
       "    </tr>\n",
       "  </tbody>\n",
       "</table>\n",
       "</div>"
      ],
      "text/plain": [
       "    movieCd                                          movieNmEn showTm typeNm  \\\n",
       "0  20201122                                              Tenet    149     장편   \n",
       "1  20197922                               DELIVER US FROM EVIL    107     장편   \n",
       "2  20199883                                          OK! MADAM    100     장편   \n",
       "3  20202281  Crayon Shin-chan: Honeymoon Hurricane ~The Los...     99     장편   \n",
       "4  20010238                                            Memento    113     장편   \n",
       "\n",
       "  nationNm      genreNm  directors  \\\n",
       "0       미국        액션,SF   크리스토퍼 놀란   \n",
       "1       한국        범죄,액션        홍원찬   \n",
       "2       한국       코미디,액션        이철하   \n",
       "3       일본        애니메이션  하시모토 마사카즈   \n",
       "4       미국  미스터리,범죄,스릴러   크리스토퍼 놀란   \n",
       "\n",
       "                                              actors     watchGradeNm  \n",
       "0  존 데이비드 워싱턴,로버트 패틴슨,엘리자베스 데비키,애런 존슨,마이클 케인,케네스 ...         12세이상관람가  \n",
       "1                                        황정민,이정재,박정민         15세이상관람가  \n",
       "2                    엄정화,박성웅,이상윤,배정남,이선빈,조성희,최진호,유수정         15세이상관람가  \n",
       "3                                박영남,김환진,강희선,여민정,정유미            전체관람가  \n",
       "4                             가이 피어스,캐리 앤 모스,조 판톨리아노  15세관람가,15세이상관람가  "
      ]
     },
     "execution_count": 6,
     "metadata": {},
     "output_type": "execute_result"
    }
   ],
   "source": [
    "all_df = pd.concat(data_list).reset_index(drop=True)\n",
    "all_df.head()"
   ]
  },
  {
   "cell_type": "code",
   "execution_count": 7,
   "metadata": {},
   "outputs": [],
   "source": [
    "all_df.to_csv('movie_info_data.csv', index=False)"
   ]
  }
 ],
 "metadata": {
  "kernelspec": {
   "display_name": "python_3",
   "language": "python",
   "name": "python_3"
  },
  "language_info": {
   "codemirror_mode": {
    "name": "ipython",
    "version": 3
   },
   "file_extension": ".py",
   "mimetype": "text/x-python",
   "name": "python",
   "nbconvert_exporter": "python",
   "pygments_lexer": "ipython3",
   "version": "3.8.5"
  }
 },
 "nbformat": 4,
 "nbformat_minor": 4
}
