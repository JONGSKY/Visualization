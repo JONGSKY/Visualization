{
 "cells": [
  {
   "cell_type": "code",
   "execution_count": 1,
   "metadata": {},
   "outputs": [],
   "source": [
    "import pandas as pd\n",
    "from itertools import product\n",
    "from selenium import webdriver\n",
    "import os\n",
    "from bs4 import BeautifulSoup\n",
    "import time"
   ]
  },
  {
   "cell_type": "code",
   "execution_count": 2,
   "metadata": {},
   "outputs": [],
   "source": [
    "def get_html_source(url):\n",
    "    driver.get(url)\n",
    "    driver.find_element_by_xpath('//*[@id=\"app\"]/div/div/div/div/div[8]/div').click()\n",
    "    time.sleep(3)\n",
    "    html = driver.page_source\n",
    "    soup = BeautifulSoup(html, 'html.parser')\n",
    "    time.sleep(3)\n",
    "    return soup\n",
    "\n",
    "def get_title(soup):\n",
    "    summary = soup.select('#app > div > div > div > div > div.summary__wYoTU')[0].text\n",
    "    return summary\n",
    "\n",
    "def get_tag_text(soup):\n",
    "    tag = soup.select('#app > div > div > div > div > div.tags__Cl6Pm')[0].text\n",
    "    return tag\n",
    "\n",
    "def get_main_text(soup):\n",
    "    tag = soup.select('#app > div > div > div > div > div:nth-child(9)')[0].text\n",
    "    return tag\n",
    "\n",
    "def get_score_1(soup):\n",
    "    result = 0\n",
    "    for i in range(1,6):\n",
    "        check = soup.select('#app > div > div > div > div > div.scores__3QXR1 > div:nth-child(1) > div.dots__3R_JZ > div:nth-child('+str(i)+')')[0].get('class')\n",
    "        if len(check) == 1:\n",
    "            break\n",
    "        result += 1\n",
    "    return result\n",
    "\n",
    "def get_score_2(soup):\n",
    "    result = 0\n",
    "    for i in range(1,6):\n",
    "        check = soup.select('#app > div > div > div > div > div.scores__3QXR1 > div:nth-child(2) > div.dots__3R_JZ > div:nth-child('+str(i)+')')[0].get('class')\n",
    "        if len(check) == 1:\n",
    "            break\n",
    "        result += 1\n",
    "    return result\n",
    "\n",
    "def get_score_3(soup):\n",
    "    result = 0\n",
    "    for i in range(1,6):\n",
    "        check = soup.select('#app > div > div > div > div > div.scores__3QXR1 > div:nth-child(3) > div.dots__3R_JZ > div:nth-child('+str(i)+')')[0].get('class')\n",
    "        if len(check) == 1:\n",
    "            break\n",
    "        result += 1\n",
    "    return result\n",
    "\n",
    "def get_score_4(soup):\n",
    "    result = 0\n",
    "    for i in range(1,6):\n",
    "        check = soup.select('#app > div > div > div > div > div.scores__3QXR1 > div:nth-child(4) > div.dots__3R_JZ > div:nth-child('+str(i)+')')[0].get('class')\n",
    "        if len(check) == 1:\n",
    "            break\n",
    "        result += 1\n",
    "    return result\n",
    "\n",
    "def get_score_5(soup):\n",
    "    result = 0\n",
    "    for i in range(1,6):\n",
    "        check = soup.select('#app > div > div > div > div > div.scores__3QXR1 > div:nth-child(5) > div.dots__3R_JZ > div:nth-child('+str(i)+')')[0].get('class')\n",
    "        if len(check) == 1:\n",
    "            break\n",
    "        result += 1\n",
    "    return result\n",
    "\n",
    "def get_best_type(soup):\n",
    "    best_type = soup.select('#app > div > div > div > div > div.recommendation__2-z05 > div:nth-child(1) > div.inner__16MvN > div.type__23j8y')[0].text\n",
    "    return best_type\n",
    "\n",
    "def get_worst_type(soup):\n",
    "    worst_type = soup.select('#app > div > div > div > div > div.recommendation__2-z05 > div:nth-child(2) > div.inner__16MvN > div.type__23j8y')[0].text\n",
    "    return worst_type"
   ]
  },
  {
   "cell_type": "code",
   "execution_count": 3,
   "metadata": {},
   "outputs": [],
   "source": [
    "mbti_list_source = [[\"E\",\"I\"], [\"S\",\"N\"], [\"T\",\"F\"], [\"J\",\"P\"]]\n",
    "mbti_list = list(product(*mbti_list_source))"
   ]
  },
  {
   "cell_type": "code",
   "execution_count": 4,
   "metadata": {},
   "outputs": [],
   "source": [
    "mbti_df = pd.DataFrame(mbti_list, columns=[\"에너지방향\",\"인식기능\",\"생활양식\",\"판단기능\"])\n",
    "mbti_df['mbti_type'] = mbti_df[[\"에너지방향\",\"인식기능\",\"생활양식\",\"판단기능\"]].apply(lambda x: ''.join(x), axis=1)\n",
    "mbti_df['img_url'] =  mbti_df[[\"mbti_type\"]].apply(lambda x: 'http://mbti.glam.am/og/'+x+\".jpg\")"
   ]
  },
  {
   "cell_type": "code",
   "execution_count": 5,
   "metadata": {},
   "outputs": [],
   "source": [
    "title_list = []\n",
    "tag_list = []\n",
    "main_text_list =[]\n",
    "score_1_list = []\n",
    "score_2_list = []\n",
    "score_3_list = []\n",
    "score_4_list = []\n",
    "score_5_list = []\n",
    "best_list = []\n",
    "worst_list = []"
   ]
  },
  {
   "cell_type": "code",
   "execution_count": 6,
   "metadata": {},
   "outputs": [],
   "source": [
    "base_dir = os.getcwd()\n",
    "driver = webdriver.Chrome(base_dir+'/chromedriver')\n",
    "driver.implicitly_wait(3)\n",
    "    \n",
    "for mbti_type in mbti_df['mbti_type']:\n",
    "    time.sleep(3)\n",
    "    url = 'http://mbti.glam.am/result/'+mbti_type\n",
    "    time.sleep(3)\n",
    "    soup = get_html_source(url)\n",
    "    title_list.append(get_title(soup))\n",
    "    tag_list.append(get_tag_text(soup))\n",
    "    main_text_list.append(get_main_text(soup))\n",
    "    score_1_list.append(get_score_1(soup))\n",
    "    score_2_list.append(get_score_2(soup))\n",
    "    score_3_list.append(get_score_3(soup))\n",
    "    score_4_list.append(get_score_4(soup))\n",
    "    score_5_list.append(get_score_5(soup))\n",
    "    best_list.append(get_best_type(soup))\n",
    "    worst_list.append(get_worst_type(soup))\n",
    "    time.sleep(3)\n",
    "    \n",
    "driver.quit()"
   ]
  },
  {
   "cell_type": "code",
   "execution_count": 7,
   "metadata": {},
   "outputs": [],
   "source": [
    "mbti_df['title'] = title_list\n",
    "mbti_df['태그'] = tag_list\n",
    "mbti_df['main'] = main_text_list\n",
    "mbti_df['애정표현력'] = score_1_list\n",
    "mbti_df['눈치력'] = score_2_list\n",
    "mbti_df['썸추진력'] = score_3_list\n",
    "mbti_df['19금력'] = score_4_list\n",
    "mbti_df['솔직담백력'] = score_5_list\n",
    "mbti_df['환상의케미'] = best_list\n",
    "mbti_df['환장의케미'] = worst_list"
   ]
  },
  {
   "cell_type": "code",
   "execution_count": 9,
   "metadata": {},
   "outputs": [],
   "source": [
    "mbti_df.to_csv('love_mbti.csv', index=False)"
   ]
  }
 ],
 "metadata": {
  "kernelspec": {
   "display_name": "python_3",
   "language": "python",
   "name": "python_3"
  },
  "language_info": {
   "codemirror_mode": {
    "name": "ipython",
    "version": 3
   },
   "file_extension": ".py",
   "mimetype": "text/x-python",
   "name": "python",
   "nbconvert_exporter": "python",
   "pygments_lexer": "ipython3",
   "version": "3.7.6"
  }
 },
 "nbformat": 4,
 "nbformat_minor": 4
}
