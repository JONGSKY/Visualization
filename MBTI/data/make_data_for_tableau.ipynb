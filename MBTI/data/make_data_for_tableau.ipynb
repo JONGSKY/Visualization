{
 "cells": [
  {
   "cell_type": "code",
   "execution_count": 1,
   "metadata": {},
   "outputs": [],
   "source": [
    "import pandas as pd"
   ]
  },
  {
   "cell_type": "code",
   "execution_count": 2,
   "metadata": {},
   "outputs": [],
   "source": [
    "df_color = pd.read_csv('love_mbti.csv')"
   ]
  },
  {
   "cell_type": "code",
   "execution_count": 3,
   "metadata": {},
   "outputs": [],
   "source": [
    "df_hidden = df_color.copy()\n",
    "\n",
    "df_color_1 = df_color.copy()\n",
    "df_color_2 = df_color.copy()\n",
    "\n",
    "df_grey_1 = df_color.copy()\n",
    "df_grey_2 = df_color.copy()"
   ]
  },
  {
   "cell_type": "code",
   "execution_count": 4,
   "metadata": {},
   "outputs": [],
   "source": [
    "df_hidden['color'] = \"hidden\"\n",
    "df_hidden['select'] = 3\n",
    "\n",
    "df_color_1['color'] = \"colored\"\n",
    "df_color_1['select'] = 1\n",
    "df_color_2['color'] = \"colored\"\n",
    "df_color_2['select'] = 4\n",
    "\n",
    "df_grey_1['color'] = \"grey\"\n",
    "df_grey_1['select'] = 2\n",
    "df_grey_2['color'] = \"grey\"\n",
    "df_grey_2['select'] = 5"
   ]
  },
  {
   "cell_type": "code",
   "execution_count": 5,
   "metadata": {},
   "outputs": [],
   "source": [
    "df_hidden['애정표현력'] = 5\n",
    "df_hidden['눈치력'] = 5\n",
    "df_hidden['썸추진력'] = 5\n",
    "df_hidden['19금력'] = 5\n",
    "df_hidden['솔직담백력'] = 5\n",
    "\n",
    "df_color_1['애정표현력'] = df_color['애정표현력'].apply(lambda x: x-2.5 if x > 2 else 0)\n",
    "df_color_1['눈치력'] = df_color['눈치력'].apply(lambda x: x-2.5 if x > 2 else 0)\n",
    "df_color_1['썸추진력'] = df_color['썸추진력'].apply(lambda x: x-2.5 if x > 2 else 0)\n",
    "df_color_1['19금력'] = df_color['19금력'].apply(lambda x: x-2.5 if x > 2 else 0)\n",
    "df_color_1['솔직담백력'] = df_color['솔직담백력'].apply(lambda x: x-2.5 if x > 2 else 0)\n",
    "\n",
    "df_color_2['애정표현력'] = df_color['애정표현력'].apply(lambda x: 2.5 if x > 2 else x)\n",
    "df_color_2['눈치력'] = df_color['눈치력'].apply(lambda x: 2.5 if x > 2 else x)\n",
    "df_color_2['썸추진력'] = df_color['썸추진력'].apply(lambda x: 2.5 if x > 2 else x)\n",
    "df_color_2['19금력'] = df_color['19금력'].apply(lambda x: 2.5 if x > 2 else x)\n",
    "df_color_2['솔직담백력'] = df_color['솔직담백력'].apply(lambda x: 2.5 if x > 2 else x)\n",
    "\n",
    "df_grey_1['애정표현력'] = df_color['애정표현력'].apply(lambda x: 5-x if x > 2 else 2.5)\n",
    "df_grey_1['눈치력'] = df_color['눈치력'].apply(lambda x: 5-x if x > 2 else 2.5)\n",
    "df_grey_1['썸추진력'] = df_color['썸추진력'].apply(lambda x: 5-x if x > 2 else 2.5)\n",
    "df_grey_1['19금력'] = df_color['19금력'].apply(lambda x: 5-x if x > 2 else 2.5)\n",
    "df_grey_1['솔직담백력'] = df_color['솔직담백력'].apply(lambda x: 5-x if x > 2 else 2.5)\n",
    "\n",
    "df_grey_2['애정표현력'] = df_color['애정표현력'].apply(lambda x: 0 if x > 2 else 2.5-x)\n",
    "df_grey_2['눈치력'] = df_color['눈치력'].apply(lambda x: 0 if x > 2 else 2.5-x)\n",
    "df_grey_2['썸추진력'] = df_color['썸추진력'].apply(lambda x: 0 if x > 2 else 2.5-x)\n",
    "df_grey_2['19금력'] = df_color['19금력'].apply(lambda x: 0 if x > 2 else 2.5-x)\n",
    "df_grey_2['솔직담백력'] = df_color['솔직담백력'].apply(lambda x: 0 if x > 2 else 2.5-x)"
   ]
  },
  {
   "cell_type": "code",
   "execution_count": 6,
   "metadata": {},
   "outputs": [],
   "source": [
    "tableau_data = pd.concat([df_hidden, df_color_1, df_color_2, df_grey_1, df_grey_2]).reset_index(drop=True).to_csv('tableau_data.csv', index=False)"
   ]
  }
 ],
 "metadata": {
  "kernelspec": {
   "display_name": "python_3",
   "language": "python",
   "name": "python_3"
  },
  "language_info": {
   "codemirror_mode": {
    "name": "ipython",
    "version": 3
   },
   "file_extension": ".py",
   "mimetype": "text/x-python",
   "name": "python",
   "nbconvert_exporter": "python",
   "pygments_lexer": "ipython3",
   "version": "3.7.6"
  }
 },
 "nbformat": 4,
 "nbformat_minor": 4
}
