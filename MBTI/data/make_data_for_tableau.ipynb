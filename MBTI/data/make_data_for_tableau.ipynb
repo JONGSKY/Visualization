{
 "cells": [
  {
   "cell_type": "code",
   "execution_count": 1,
   "metadata": {},
   "outputs": [],
   "source": [
    "import pandas as pd"
   ]
  },
  {
   "cell_type": "code",
   "execution_count": 2,
   "metadata": {},
   "outputs": [],
   "source": [
    "df_color = pd.read_csv('love_mbti.csv')"
   ]
  },
  {
   "cell_type": "code",
   "execution_count": 3,
   "metadata": {},
   "outputs": [],
   "source": [
    "df_hidden = df_color.copy()\n",
    "df_grey = df_color.copy()"
   ]
  },
  {
   "cell_type": "code",
   "execution_count": 4,
   "metadata": {},
   "outputs": [],
   "source": [
    "df_color['color'] = \"colored\"\n",
    "df_hidden['color'] = \"hidden\"\n",
    "df_grey['color'] = \"grey\""
   ]
  },
  {
   "cell_type": "code",
   "execution_count": 5,
   "metadata": {},
   "outputs": [],
   "source": [
    "df_hidden['애정표현력'] = 10\n",
    "df_hidden['눈치력'] = 10\n",
    "df_hidden['썸추진력'] = 10\n",
    "df_hidden['19금력'] = 10\n",
    "df_hidden['솔직담백력'] = 10\n",
    "\n",
    "df_grey['애정표현력'] = 5 - df_grey['애정표현력']\n",
    "df_grey['눈치력'] = 5 - df_grey['눈치력']\n",
    "df_grey['썸추진력'] = 5 - df_grey['썸추진력']\n",
    "df_grey['19금력'] = 5 - df_grey['19금력']\n",
    "df_grey['솔직담백력'] = 5 - df_grey['솔직담백력']"
   ]
  },
  {
   "cell_type": "code",
   "execution_count": 6,
   "metadata": {},
   "outputs": [],
   "source": [
    "tableau_data = pd.concat([df_color, df_hidden, df_grey]).reset_index(drop=True).to_csv('tableau_data.csv', index=False)"
   ]
  }
 ],
 "metadata": {
  "kernelspec": {
   "display_name": "python_3",
   "language": "python",
   "name": "python_3"
  },
  "language_info": {
   "codemirror_mode": {
    "name": "ipython",
    "version": 3
   },
   "file_extension": ".py",
   "mimetype": "text/x-python",
   "name": "python",
   "nbconvert_exporter": "python",
   "pygments_lexer": "ipython3",
   "version": "3.7.6"
  }
 },
 "nbformat": 4,
 "nbformat_minor": 4
}
